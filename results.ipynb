{
 "cells": [
  {
   "cell_type": "markdown",
   "metadata": {},
   "source": [
    "# Results\n",
    "\n",
    "This notebook contains graphs and results for the results\n",
    "\n",
    "A lot of stuff is copy pasted around, which is mostly just to ensure that modifying a previous plot wont affect later ones"
   ]
  },
  {
   "cell_type": "code",
   "execution_count": 3,
   "metadata": {},
   "outputs": [],
   "source": [
    "import pandas as pd\n",
    "import numpy as np\n",
    "import matplotlib.pyplot as plt\n",
    "import os"
   ]
  },
  {
   "cell_type": "code",
   "execution_count": 4,
   "metadata": {},
   "outputs": [],
   "source": [
    "class ResultValue:\n",
    "    def __init__(self, average: float, low_five: float, high_five: float) -> None:\n",
    "        self.average = average\n",
    "        self.low_five = low_five\n",
    "        self.high_five = high_five\n",
    "\n",
    "    def __repr__(self) -> str:\n",
    "        return f\"ResultValue(average={self.average}, low_five={self.low_five}, high_five={self.high_five})\"\n",
    "\n",
    "\n",
    "class TimingResult:\n",
    "    def __init__(self, fps: ResultValue, processing_time: ResultValue) -> None:\n",
    "        self.fps = fps\n",
    "        self.processing_time = processing_time\n",
    "\n",
    "    def __repr__(self) -> str:\n",
    "        return f\"TimingResult(fps={self.fps}, processing_time={self.processing_time})\"\n",
    "\n",
    "\n",
    "def generate_results_for_timing(path: str):\n",
    "    data = pd.read_csv(\n",
    "        path,\n",
    "        header=0,\n",
    "        index_col=[\"run_id\", \"name\"],\n",
    "        delimiter=\";\",\n",
    "    )\n",
    "\n",
    "    data.sort_index(level=0, inplace=True)\n",
    "\n",
    "    # First filter data to only include values with name = \"frame\"\n",
    "    data = data.loc[data.index.get_level_values(\"name\") == \"frame\"]\n",
    "\n",
    "    # Calculate diff between each row \"time_end\"\n",
    "    data[\"time_end_diff\"] = data[\"time_end\"].diff()\n",
    "\n",
    "    # Calculate time_end_diff stats\n",
    "    frame_time_avg = data[\"time_end_diff\"].mean()\n",
    "    frame_time_low_five = data[\"time_end_diff\"].quantile(0.05)\n",
    "    frame_time_high_five = data[\"time_end_diff\"].quantile(0.95)\n",
    "\n",
    "    # Convert frame_time to FPS\n",
    "    frame_time_avg_fps = 1000 / frame_time_avg\n",
    "    frame_time_low_five_fps = 1000 / frame_time_high_five\n",
    "    frame_time_high_five_fps = 1000 / frame_time_low_five\n",
    "\n",
    "    # Calculate the processing time stats\n",
    "    processing_time_avg = data[\"duration_ms\"].mean()\n",
    "    processing_time_low_five = data[\"duration_ms\"].quantile(0.05)\n",
    "    processing_time_high_five = data[\"duration_ms\"].quantile(0.95)\n",
    "\n",
    "    return TimingResult(\n",
    "        ResultValue(\n",
    "            frame_time_avg_fps, frame_time_low_five_fps, frame_time_high_five_fps\n",
    "        ),\n",
    "        ResultValue(\n",
    "            processing_time_avg, processing_time_low_five, processing_time_high_five\n",
    "        ),\n",
    "    )\n",
    "\n",
    "def build_table_for_folder(path: str):\n",
    "    # Get all files in the folder\n",
    "    files = os.listdir(path)\n",
    "\n",
    "    lines = []\n",
    "\n",
    "    for file in files:\n",
    "        timing_result = generate_results_for_timing(f\"{path}/{file}\")\n",
    "        sequence_id = file.split(\".\")[0]\n",
    "        # Remove letters before first - and after last -\n",
    "        sequence_id = sequence_id.split(\"-\")[1:-1]\n",
    "        sequence_id = \"-\".join(sequence_id)\n",
    "\n",
    "        # Pad sequence_id with zeros\n",
    "        sequence_id = sequence_id.zfill(2)\n",
    "        lines.append(f\"{sequence_id} & & {timing_result.fps.average:.2f} & {timing_result.fps.low_five:.2f} & {timing_result.fps.high_five:.2f} & {timing_result.processing_time.average:.2f} & {timing_result.processing_time.low_five:.2f} & {timing_result.processing_time.high_five:.2f} \\\\\\\\\")\n",
    "\n",
    "    # Sort lines by sequence_id\n",
    "    lines.sort()\n",
    "    for line in lines:\n",
    "        print(line)\n",
    "        print(\"\\\\hline\")\n",
    "\n",
    "def find_data_for_module(path: str, module: str):\n",
    "    frames = []\n",
    "\n",
    "    for file in os.listdir(path):\n",
    "        data = pd.read_csv(\n",
    "            f\"{path}/{file}\",\n",
    "            header=0,\n",
    "            index_col=[\"run_id\", \"name\"],\n",
    "            delimiter=\";\",\n",
    "        )\n",
    "\n",
    "        data = data.loc[data.index.get_level_values(\"name\") == module]\n",
    "\n",
    "        data[\"file\"] = file.split(\".\")[0]\n",
    "        data.set_index(\"file\", append=True)\n",
    "\n",
    "        frames.append(data)\n",
    "\n",
    "    res = pd.concat(frames)\n",
    "    res.sort_index(level=0, inplace=True)\n",
    "    return res\n",
    "\n",
    "\n",
    "def generate_gantt_chart_from_folder(path: str):\n",
    "    random_file = os.listdir(path)[0]\n",
    "    data = pd.read_csv(\n",
    "        f\"{path}/{random_file}\",\n",
    "        header=0,\n",
    "        index_col=[\"run_id\", \"name\"],\n",
    "        delimiter=\";\",\n",
    "    )\n",
    "    data.sort_index(level=0, inplace=True)\n",
    "\n",
    "    fig, ax = plt.subplots(figsize=(10, 5))\n",
    "\n",
    "    module_timing_res = {}\n",
    "\n",
    "    for i in range(50, 150):\n",
    "        curr = data.loc[i]\n",
    "\n",
    "        total_start = curr.time_start.min()\n",
    "\n",
    "        for i, row in curr.iterrows():\n",
    "            start_time = row.time_start - total_start\n",
    "            end_time = row.time_end - total_start\n",
    "\n",
    "            name = i\n",
    "\n",
    "            if name not in module_timing_res:\n",
    "                module_timing_res[name] = []\n",
    "            \n",
    "            module_timing_res[name].append((start_time, end_time))\n",
    "\n",
    "    for name, timings in module_timing_res.items():\n",
    "        start_time, end_time = zip(*timings)\n",
    "        avg_start_time = np.mean(start_time)\n",
    "        avg_end_time = np.mean(end_time)\n",
    "\n",
    "\n",
    "        ax.barh(name, avg_end_time - avg_start_time, left=avg_start_time)\n",
    "\n",
    "    plt.ylabel(\"System component\")\n",
    "    plt.xlabel(\"Time (ms)\")\n",
    "\n",
    "    plt.grid(True)\n",
    "\n",
    "    dataset = path.split(\"/\")[-2]\n",
    "    path_end = path.split(\"/\")[-1]\n",
    "    fig.tight_layout()\n",
    "    fig.savefig(f\"out/results_{dataset}_{path_end}_gantt.png\")\n",
    "\n",
    "    plt.show()\n",
    "\n",
    "\n",
    "def generate_box_plot_from_folder(path: str, module: str):\n",
    "    data = find_data_for_module(path, module)\n",
    "\n",
    "    # Generate box plot from \"duration_ms\"\n",
    "    fig, ax = plt.subplots(figsize=(5, 5))\n",
    "    \n",
    "    data.boxplot(column=\"duration_ms\", ax=ax)\n",
    "\n",
    "    ax.set_title(module)\n",
    "    ax.set_ylabel(\"Processing time (ms)\")\n",
    "\n",
    "    dataset = path.split(\"/\")[-2]\n",
    "    path_end = path.split(\"/\")[-1]\n",
    "    fig.tight_layout()\n",
    "    fig.savefig(f\"out/results_{dataset}_{path_end}_box.png\")\n",
    "\n",
    "    plt.show()\n",
    "\n",
    "def generate_folder_bundle(path: str):\n",
    "    if not os.path.exists(\"out\"):\n",
    "        os.makedirs(\"out\")\n",
    "\n",
    "    build_table_for_folder(path)\n",
    "    generate_gantt_chart_from_folder(path)\n",
    "    generate_box_plot_from_folder(path, \"frame\")"
   ]
  },
  {
   "cell_type": "markdown",
   "metadata": {},
   "source": [
    "# KITTI"
   ]
  },
  {
   "cell_type": "code",
   "execution_count": null,
   "metadata": {},
   "outputs": [],
   "source": [
    "generate_folder_bundle(\"data/kitti/basic-plane-seg\")"
   ]
  },
  {
   "cell_type": "code",
   "execution_count": null,
   "metadata": {},
   "outputs": [],
   "source": [
    "generate_folder_bundle(\"data/kitti/basic-plane-seg-temporal\")"
   ]
  },
  {
   "cell_type": "code",
   "execution_count": null,
   "metadata": {},
   "outputs": [],
   "source": [
    "generate_folder_bundle(\"data/kitti/superpixel-plane-seg\")"
   ]
  },
  {
   "cell_type": "code",
   "execution_count": null,
   "metadata": {},
   "outputs": [],
   "source": [
    "generate_folder_bundle(\"data/kitti/planefit\")"
   ]
  },
  {
   "cell_type": "code",
   "execution_count": null,
   "metadata": {},
   "outputs": [],
   "source": [
    "generate_folder_bundle(\"data/kitti/planecluster\")"
   ]
  },
  {
   "cell_type": "markdown",
   "metadata": {},
   "source": [
    "# ZED"
   ]
  },
  {
   "cell_type": "code",
   "execution_count": null,
   "metadata": {},
   "outputs": [],
   "source": [
    "generate_folder_bundle(\"data/zed/basic-plane-seg\")"
   ]
  },
  {
   "cell_type": "code",
   "execution_count": null,
   "metadata": {},
   "outputs": [],
   "source": [
    "generate_folder_bundle(\"data/zed/basic-plane-seg-temporal\")"
   ]
  },
  {
   "cell_type": "code",
   "execution_count": null,
   "metadata": {},
   "outputs": [],
   "source": [
    "generate_folder_bundle(\"data/zed/superpixel-plane-seg\")"
   ]
  },
  {
   "cell_type": "code",
   "execution_count": null,
   "metadata": {},
   "outputs": [],
   "source": [
    "generate_folder_bundle(\"data/zed/planefit\")"
   ]
  },
  {
   "cell_type": "code",
   "execution_count": null,
   "metadata": {},
   "outputs": [],
   "source": [
    "generate_folder_bundle(\"data/zed/planecluster\")"
   ]
  },
  {
   "cell_type": "markdown",
   "metadata": {},
   "source": [
    "# Contour Relaxation Performance\n",
    "\n",
    "This section generates some plots for the contour relaxation module's performance"
   ]
  },
  {
   "cell_type": "code",
   "execution_count": 20,
   "metadata": {},
   "outputs": [],
   "source": [
    "def generate_plots_for_grouping(path: str):\n",
    "    df = None\n",
    "    columns = []\n",
    "\n",
    "    for file in os.listdir(path):\n",
    "        data = pd.read_csv(\n",
    "            f\"{path}/{file}\",\n",
    "            header=0,\n",
    "            index_col=[\"run_id\", \"name\"],\n",
    "            delimiter=\";\",\n",
    "        )\n",
    "\n",
    "        data.sort_index(level=0, inplace=True)\n",
    "        data = data.loc[data.index.get_level_values(\"name\") == \"SuperPixelDetect\"]\n",
    "        \n",
    "        if df is None:\n",
    "            df = pd.DataFrame(index=data.index)\n",
    "\n",
    "        parts = file.split(\"-\")\n",
    "        block_size = f\"{parts[1]}={parts[2]}\"\n",
    "        df[block_size] = data[\"duration_ms\"]\n",
    "        columns.append(block_size)\n",
    "\n",
    "    # Sort columns by value after \"=\"\n",
    "    columns.sort(key=lambda x: int(x.split(\"=\")[1]))\n",
    "\n",
    "    fig, ax = plt.subplots(figsize=(10, 5))\n",
    "\n",
    "    df.boxplot(ax=ax, column=columns)\n",
    "\n",
    "    fig.tight_layout()\n",
    "\n",
    "    plt.show()"
   ]
  },
  {
   "cell_type": "code",
   "execution_count": 21,
   "metadata": {},
   "outputs": [
    {
     "data": {
      "image/png": "[encoded data removed]",
      "text/plain": [
       "<Figure size 1000x500 with 1 Axes>"
      ]
     },
     "metadata": {},
     "output_type": "display_data"
    }
   ],
   "source": [
    "generate_plots_for_grouping(\"data/contour-relaxation/block-size\")"
   ]
  },
  {
   "cell_type": "code",
   "execution_count": 22,
   "metadata": {},
   "outputs": [
    {
     "data": {
      "image/png": "[encoded data removed]",
      "text/plain": [
       "<Figure size 1000x500 with 1 Axes>"
      ]
     },
     "metadata": {},
     "output_type": "display_data"
    }
   ],
   "source": [
    "generate_plots_for_grouping(\"data/contour-relaxation/iterations\")"
   ]
  }
 ],
 "metadata": {
  "kernelspec": {
   "display_name": "venv",
   "language": "python",
   "name": "python3"
  },
  "language_info": {
   "codemirror_mode": {
    "name": "ipython",
    "version": 3
   },
   "file_extension": ".py",
   "mimetype": "text/x-python",
   "name": "python",
   "nbconvert_exporter": "python",
   "pygments_lexer": "ipython3",
   "version": "3.12.3"
  }
 },
 "nbformat": 4,
 "nbformat_minor": 2
}
